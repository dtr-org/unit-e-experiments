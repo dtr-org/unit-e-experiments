{
 "cells": [
  {
   "cell_type": "code",
   "execution_count": 1,
   "metadata": {},
   "outputs": [],
   "source": [
    "from blockchain.simnet import SimNet\n",
    "from blockchain.transaction import *\n",
    "from blockchain.utils import *\n",
    "\n",
    "from pickle import loads as ploads\n",
    "from pickle import dumps as pdumps\n",
    "\n",
    "from matplotlib import pyplot as plt"
   ]
  },
  {
   "cell_type": "code",
   "execution_count": 6,
   "metadata": {},
   "outputs": [],
   "source": [
    "bignet = SimNet(\n",
    "    simulation_time=1800,  # 30min\n",
    "    coins_amount=100000,\n",
    "    num_coins_per_proposer=1,\n",
    "    num_proposer_nodes=30,\n",
    "    num_relay_nodes=45,\n",
    "    num_greedy_proposers=1,\n",
    "    time_between_blocks=16,\n",
    "    block_time_mask=4,\n",
    "    max_future_block_time_seconds=8\n",
    ")"
   ]
  },
  {
   "cell_type": "code",
   "execution_count": 7,
   "metadata": {},
   "outputs": [],
   "source": [
    "greedy_node = [n for n in bignet.nodes if n.is_proposer and n.greedy_proposal][0]"
   ]
  },
  {
   "cell_type": "code",
   "execution_count": 8,
   "metadata": {},
   "outputs": [
    {
     "data": {
      "text/plain": [
       "{Coin(amount=1000, height=0, txo=TransactionOutput(tx_hash=b']\\x03\\xfa{*\\x94\\xc8\\xa1}\\x0e\\xe1\\xc10R\\xcf\\x9c\\x16\\x8dT\\x95n\\xee`\\xf2\\x03\\\\w\\xb1\\xc9\\xb1\\xa3 ', out_idx=4))}"
      ]
     },
     "execution_count": 8,
     "metadata": {},
     "output_type": "execute_result"
    }
   ],
   "source": [
    "# We discard all the coins, but 1, for our greedy node, to decrease its stake\n",
    "coin = list(greedy_node.coins_cache)[0]\n",
    "coin = Coin(amount=coin.amount // 100, height=coin.height, txo=coin.txo)\n",
    "greedy_node.coins_cache = {coin}\n",
    "greedy_node.initial_coins = greedy_node.coins_cache.copy()\n",
    "greedy_node.coins_cache"
   ]
  },
  {
   "cell_type": "code",
   "execution_count": 9,
   "metadata": {},
   "outputs": [
    {
     "name": "stdout",
     "output_type": "stream",
     "text": [
      "18.1 s ± 5.94 s per loop (mean ± std. dev. of 7 runs, 1 loop each)\n"
     ]
    }
   ],
   "source": [
    "%timeit bignet.run()"
   ]
  },
  {
   "cell_type": "code",
   "execution_count": null,
   "metadata": {},
   "outputs": [],
   "source": []
  }
 ],
 "metadata": {
  "kernelspec": {
   "display_name": "Python 3",
   "language": "python",
   "name": "python3"
  },
  "language_info": {
   "codemirror_mode": {
    "name": "ipython",
    "version": 3
   },
   "file_extension": ".py",
   "mimetype": "text/x-python",
   "name": "python",
   "nbconvert_exporter": "python",
   "pygments_lexer": "ipython3",
   "version": "3.6.7"
  }
 },
 "nbformat": 4,
 "nbformat_minor": 2
}

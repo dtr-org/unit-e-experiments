{
 "cells": [
  {
   "cell_type": "markdown",
   "metadata": {},
   "source": [
    "# Forking Experiments\n",
    "\n",
    "This notebook contains some experimental results from running several network simulations that can help us to understand how some settings and parameters affect the network's throughput (more specifically on the chain forks evolution) under a Proof of Stake v3 proposing mechanism.\n",
    "\n",
    "But before showing the experimental results, we'll introduce some basic calculations to see what the theory tells us and have a better idea of which kind of questions we're trying to answer."
   ]
  },
  {
   "cell_type": "markdown",
   "metadata": {},
   "source": [
    "## Simplest case: 0-delay\n",
    "\n",
    "Given any arbitrary target spacing (average time between blocks), which in our case is 16s, and 0 delay, two variables control the probability of having forks:\n",
    "\n",
    "  - The numer of staked coins.\n",
    "  - The time granularity used to compute block hashes.\n",
    "\n",
    "**Some assumptions:**\n",
    "\n",
    "  - There's no delay, once a block is created, it arrives immediately to all the nodes in the network.\n",
    "    Although it's intuitive to expect that higher delays could lead to higher number of forks, we'll\n",
    "    assume for now that there's no delay to have a better intuition on how other factors could affect\n",
    "    the outcome.\n",
    "  - All coins have the same denomination and each proposer holds one single coin, this is a strong (and not realistic) assumption but not very problematic.\n",
    "  - The difficulty adjustment mechanism is good enough to keep empirical probabilities close enough to the desired ones.\n",
    "  - Given that the delay is 0, and that we have a fork choice rule, the \"weakest\" forks are rapidly discarded and the nodes don't try to build chains on top of them.\n",
    "\n",
    "**Some definitions:**\n",
    "\n",
    "  - $C$ : number of staked coins\n",
    "  - $T$ : target spacing, or expected average time between blocks\n",
    "  - $m$ : in $T$ seconds a node will be able to try $m$ hashes.\n",
    "  - $P\\left(C,m,k\\right)$ : Probability that a coin gives us the ability to propose during a period of $k\\frac{T}{m}$ seconds when there are $C$ staked coins, the target spacing is $T$ and a node can try to propose every $\\frac{T}{m}$ seconds.\n",
    "  - $\\mathsf{P}$ : $P\\left(C,m,1\\right)$.\n",
    "  - $F\\left(C,m,k\\right)$ : Probability of having at least one fork during a period of $k\\frac{T}{m}$ seconds when there are $C$ staked coins, the target spacing is $T$ and a node can try to propose every $\\frac{T}{m}$ seconds.\n",
    "  - $\\mathsf{F}$ : $F\\left(C,m,1\\right)$.\n",
    "  - $\\mathbb{F}$ : $F\\left(C,m,m\\right)$.\n",
    "  "
   ]
  },
  {
   "cell_type": "markdown",
   "metadata": {},
   "source": [
    "**Some calculations:**\n",
    "\n",
    "The probability of having at least one fork for a given instant is $1$ minus the probability of not having any block proposal, minus the probability of having exactly $1$ block proposal:\n",
    "\n",
    "$$\\mathsf{F} = 1 - \\mathsf{P}\\left(1 - \\mathsf{P}\\right)^{C-1} - \\left(1 - \\mathsf{P}\\right)^C = 1 - \\left(1 - \\mathsf{P}\\right)^{C-1}$$\n",
    "\n",
    "The probability of having at least one fork during $T$ seconds is:\n",
    "\n",
    "$$\\mathbb{F} = 1 - \\left(1-\\mathsf{F}\\right)^m$$\n",
    "\n",
    "We want to find expressions that depend on $C$ and $m$, so let's start doing some substitions:\n",
    "\n",
    "$$\\frac{1}{m} = 1 - \\left(1-\\mathsf{P}\\right)^C \\implies \\mathsf{P} = 1-\\left(1-\\frac{1}{m}\\right)^{\\frac{1}{C}}$$\n",
    "\n",
    "and hence\n",
    "\n",
    "$$\\mathsf{F} = 1 - \\left(1-\\mathsf{P}\\right)^{C-1} = 1 - \\left( 1 - \\left( 1 - \\left( 1 - \\frac{1}{m}\\right)^{\\frac{1}{C}}\\right)\\right)^{C-1} = 1 - \\left(1-\\frac{1}{m}\\right)^{\\frac{C-1}{C}}$$\n",
    "\n",
    "therefore\n",
    "\n",
    "$$\\mathbb{F} = 1 - \\left(1-\\mathsf{F}\\right)^m = 1 - \\left( 1 - \\left( 1 - \\left( 1 - \\frac{1}{m}\\right)^{\\frac{C-1}{C}}\\right)\\right)^m = 1 - \\left(1-\\frac{1}{m}\\right)^{m\\frac{C-1}{C}}$$\n",
    "\n",
    "As we can see, when the number of coins ($C$) is big enough, the probability of having at least one fork every $T$ seconds is $1-\\left(1-\\frac{1}{m}\\right)^m$, which is a decreasing function of $m$; and $\\lim_{m\\to\\infty}1-\\left(1-\\frac{1}{m}\\right)^m = 1-e^{-1}$.\n",
    "\n",
    "We can take a look on $\\mathbb{F}$ seeing what happens when $m$ is very large. The probability of having forks every $T$ seconds is $1-e^{-1+\\frac{1}{C}}$, which makes sense: the more proposers, the higher the probability of having forks (and having just one proposer gives us a probability equal to $0$).\n",
    "\n",
    "From this we know that, having negligible delay, it's worth to have a large $m$ parameter, but we still face a fundamental limit that we can't cross, some amount of forking is inevitable. This tells us that, having a target spacing of 16s we'll see a fork approximately every 25.31s in average."
   ]
  },
  {
   "cell_type": "markdown",
   "metadata": {},
   "source": [
    "## A more convoluted case: deterministic $\\delta$-delay\n",
    "\n",
    "Now let's see what happens when the block propagation delay is positive, although this is more realistic, we'll still keep things simple by assuming a deterministic fixed delay."
   ]
  },
  {
   "cell_type": "code",
   "execution_count": null,
   "metadata": {},
   "outputs": [],
   "source": []
  }
 ],
 "metadata": {
  "kernelspec": {
   "display_name": "Python 3",
   "language": "python",
   "name": "python3"
  },
  "language_info": {
   "codemirror_mode": {
    "name": "ipython",
    "version": 3
   },
   "file_extension": ".py",
   "mimetype": "text/x-python",
   "name": "python",
   "nbconvert_exporter": "python",
   "pygments_lexer": "ipython3",
   "version": "3.6.7"
  }
 },
 "nbformat": 4,
 "nbformat_minor": 2
}

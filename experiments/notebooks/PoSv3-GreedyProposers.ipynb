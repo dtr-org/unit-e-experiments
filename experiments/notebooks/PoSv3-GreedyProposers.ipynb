{
 "cells": [
  {
   "cell_type": "code",
   "execution_count": 1,
   "metadata": {},
   "outputs": [],
   "source": [
    "from blockchain.simnet import SimNet\n",
    "from blockchain.transaction import *\n",
    "from blockchain.utils import *"
   ]
  },
  {
   "cell_type": "code",
   "execution_count": 2,
   "metadata": {},
   "outputs": [],
   "source": [
    "nets_6h = [ \n",
    "    SimNet(\n",
    "        simulation_time=21600, coins_amount=10000,\n",
    "        num_proposer_nodes=20, num_relay_nodes=30, num_greedy_proposers=0\n",
    "    ),\n",
    "    SimNet(\n",
    "        simulation_time=21600, coins_amount=10000,\n",
    "        num_proposer_nodes=20, num_relay_nodes=30, num_greedy_proposers=5\n",
    "    ),\n",
    "    SimNet(\n",
    "        simulation_time=21600, coins_amount=10000,\n",
    "        num_proposer_nodes=20, num_relay_nodes=30, num_greedy_proposers=10\n",
    "    ), \n",
    "    SimNet(\n",
    "        simulation_time=21600, coins_amount=10000,\n",
    "        num_proposer_nodes=20, num_relay_nodes=30, num_greedy_proposers=20\n",
    "    ) \n",
    "]"
   ]
  },
  {
   "cell_type": "code",
   "execution_count": 3,
   "metadata": {},
   "outputs": [],
   "source": [
    "# for net in nets_6h: \n",
    "#     net.run()\n",
    "\n",
    "# Loggers & HASH objects were nullified before serialization\n",
    "from pickle import loads as ploads\n",
    "with open('./data/nets_6h.dat', 'rb') as simulation_file:\n",
    "    nets_6h = ploads(simulation_file.read())"
   ]
  },
  {
   "cell_type": "code",
   "execution_count": 4,
   "metadata": {},
   "outputs": [],
   "source": [
    "# Adding a missing (but interesting) case\n",
    "# single_greedy = SimNet(\n",
    "#     simulation_time=21600, coins_amount=10000,\n",
    "#     num_proposer_nodes=20, num_relay_nodes=30, num_greedy_proposers=1\n",
    "# )\n",
    "# single_greedy.run()\n",
    "\n",
    "# nets_6h.insert(1, single_greedy)\n",
    "\n",
    "# Saving the generated data for later, to save some time.\n",
    "\n",
    "# from pickle import dumps as pdumps\n",
    "\n",
    "# # Removing references to unserializable objects\n",
    "# for net in nets_6h:\n",
    "#     net.logger = None\n",
    "#     for node in net.nodes: \n",
    "#         for block in node.main_chain.blocks: \n",
    "#             block._kernel_hash_base = None \n",
    "#             block._block_hash_base = None \n",
    "#         for chain in node.alternative_chains: \n",
    "#             for block in chain.blocks: \n",
    "#                 block._kernel_hash_base = None \n",
    "#                 block._block_hash_base = None\n",
    "\n",
    "# with open('./data/nets_6h.dat', 'wb') as simulation_file:\n",
    "#     simulation_file.write(pdumps(nets_6h))\n"
   ]
  },
  {
   "cell_type": "code",
   "execution_count": 5,
   "metadata": {},
   "outputs": [
    {
     "data": {
      "text/plain": [
       "[<blockchain.simnet.SimNet at 0x7fde540600b8>,\n",
       " <blockchain.simnet.SimNet at 0x7fde32fff400>,\n",
       " <blockchain.simnet.SimNet at 0x7fde32cc8cc0>,\n",
       " <blockchain.simnet.SimNet at 0x7fde32771908>,\n",
       " <blockchain.simnet.SimNet at 0x7fde321e3710>]"
      ]
     },
     "execution_count": 5,
     "metadata": {},
     "output_type": "execute_result"
    }
   ],
   "source": [
    "nets_6h"
   ]
  },
  {
   "cell_type": "code",
   "execution_count": 6,
   "metadata": {},
   "outputs": [
    {
     "name": "stdout",
     "output_type": "stream",
     "text": [
      "num_greedy_proposers: 0, height: 1352, chain_work: 3624186920\n",
      "num_greedy_proposers: 1, height: 1527, chain_work: 1490232856\n",
      "num_greedy_proposers: 5, height: 1659, chain_work: 4912863705\n",
      "num_greedy_proposers: 10, height: 1781, chain_work: 9587298244\n",
      "num_greedy_proposers: 20, height: 1790, chain_work: 19345579123\n"
     ]
    }
   ],
   "source": [
    "# We'll see how the nodes greed affect some basic statistics:\n",
    "\n",
    "# First of all, the difficulty adjustment mechanism is not fast\n",
    "# enough (at least during the first 6h) when we have greedy nodes.\n",
    "# This can be seen considering how many blocks are produced in\n",
    "# the same amount of time.\n",
    "\n",
    "for net in nets_6h:\n",
    "    height = max(n.main_chain.height for n in net.nodes)\n",
    "    chain_work = max(n.main_chain.get_chain_work() for n in net.nodes)\n",
    "    print(\n",
    "        f'num_greedy_proposers: {net.num_greedy_proposers}, '\n",
    "        f'height: {height}, '\n",
    "        f'chain_work: {chain_work}'\n",
    "    )"
   ]
  },
  {
   "cell_type": "code",
   "execution_count": 7,
   "metadata": {},
   "outputs": [
    {
     "name": "stdout",
     "output_type": "stream",
     "text": [
      "num_greedy: 0, greedy_avg_funds: 0, naive_avg_funds: 30067.6\n",
      "num_greedy: 1, greedy_avg_funds: 31516.0, naive_avg_funds: 30000.57894736842\n",
      "num_greedy: 5, greedy_avg_funds: 30332.2, naive_avg_funds: 30000.0\n",
      "num_greedy: 10, greedy_avg_funds: 30178.1, naive_avg_funds: 30000.1\n",
      "num_greedy: 20, greedy_avg_funds: 30089.6, naive_avg_funds: 0\n"
     ]
    }
   ],
   "source": [
    "# When observing the results, take into account that the chains\n",
    "# vary in length, and the number of nodes that are obtaining a\n",
    "# reward also vary.\n",
    "\n",
    "# Remember also that the initial funds are 30000 per node.\n",
    "\n",
    "# What's clear from them is that, whenever we have a \"big enough\"\n",
    "# amount of greedy nodes, the naive ones have no opportunity at\n",
    "# all to obtain profit from their stake.\n",
    "\n",
    "for net in nets_6h:\n",
    "    if net.num_greedy_proposers > 0:\n",
    "        greedy_funds = sum(\n",
    "            sum(c.amount for c in n.coins_cache)\n",
    "            for n in net.nodes\n",
    "            if n.is_proposer and n.greedy_proposal\n",
    "        ) / net.num_greedy_proposers\n",
    "    else:\n",
    "        greedy_funds = 0\n",
    "\n",
    "    if net.num_greedy_proposers < net.num_proposer_nodes:\n",
    "        naive_funds = sum(\n",
    "            sum(c.amount for c in n.coins_cache)\n",
    "            for n in net.nodes\n",
    "            if n.is_proposer and not n.greedy_proposal\n",
    "        ) / (net.num_proposer_nodes - net.num_greedy_proposers)\n",
    "    else:\n",
    "        naive_funds = 0\n",
    "\n",
    "    print(\n",
    "        f'num_greedy: {net.num_greedy_proposers}, '\n",
    "        f'greedy_avg_funds: {greedy_funds}, '\n",
    "        f'naive_avg_funds: {naive_funds}'\n",
    "    )"
   ]
  },
  {
   "cell_type": "code",
   "execution_count": 8,
   "metadata": {},
   "outputs": [],
   "source": [
    "# Now, let's examine the timestamps...\n",
    "best_chains = [\n",
    "    sorted(\n",
    "        [node.main_chain for node in net.nodes],\n",
    "        key=lambda c: c.get_chain_work(),\n",
    "        reverse=True\n",
    "    )[0]\n",
    "    for net in nets_6h\n",
    "]\n",
    "\n",
    "chain_timestamps = [\n",
    "    [(block.real_timestamp - block.timestamp) for block in chain.blocks]\n",
    "    for chain in best_chains\n",
    "]"
   ]
  },
  {
   "cell_type": "code",
   "execution_count": 9,
   "metadata": {},
   "outputs": [],
   "source": [
    "from matplotlib import pyplot as plt"
   ]
  },
  {
   "cell_type": "code",
   "execution_count": 10,
   "metadata": {},
   "outputs": [
    {
     "data": {
      "image/png": "[encoded data removed]",
      "text/plain": [
       "<Figure size 432x288 with 1 Axes>"
      ]
     },
     "metadata": {
      "needs_background": "light"
     },
     "output_type": "display_data"
    }
   ],
   "source": [
    "plt.plot(chain_timestamps[0])\n",
    "plt.show()"
   ]
  },
  {
   "cell_type": "code",
   "execution_count": 11,
   "metadata": {},
   "outputs": [
    {
     "data": {
      "image/png": "[encoded data removed]",
      "text/plain": [
       "<Figure size 432x288 with 1 Axes>"
      ]
     },
     "metadata": {
      "needs_background": "light"
     },
     "output_type": "display_data"
    }
   ],
   "source": [
    "plt.plot(chain_timestamps[1])\n",
    "plt.show()"
   ]
  },
  {
   "cell_type": "code",
   "execution_count": 12,
   "metadata": {},
   "outputs": [
    {
     "data": {
      "image/png": "[encoded data removed]",
      "text/plain": [
       "<Figure size 432x288 with 1 Axes>"
      ]
     },
     "metadata": {
      "needs_background": "light"
     },
     "output_type": "display_data"
    }
   ],
   "source": [
    "plt.plot(chain_timestamps[2])\n",
    "plt.show()"
   ]
  },
  {
   "cell_type": "code",
   "execution_count": 13,
   "metadata": {},
   "outputs": [
    {
     "data": {
      "image/png": "[encoded data removed]",
      "text/plain": [
       "<Figure size 432x288 with 1 Axes>"
      ]
     },
     "metadata": {
      "needs_background": "light"
     },
     "output_type": "display_data"
    }
   ],
   "source": [
    "plt.plot(chain_timestamps[3])\n",
    "plt.show()"
   ]
  },
  {
   "cell_type": "code",
   "execution_count": 14,
   "metadata": {},
   "outputs": [
    {
     "data": {
      "image/png": "[encoded data removed]",
      "text/plain": [
       "<Figure size 432x288 with 1 Axes>"
      ]
     },
     "metadata": {
      "needs_background": "light"
     },
     "output_type": "display_data"
    }
   ],
   "source": [
    "plt.plot(chain_timestamps[4])\n",
    "plt.show()"
   ]
  },
  {
   "cell_type": "code",
   "execution_count": 15,
   "metadata": {},
   "outputs": [],
   "source": [
    "# Lets try now with a bigger network, and a small greedy node.\n",
    "# Trying parameters closer to what Particl has, just to see how it would behave there...\n",
    "bignet = SimNet(\n",
    "    simulation_time=172800,\n",
    "    coins_amount=100000,\n",
    "    num_coins_per_proposer=1,\n",
    "    num_proposer_nodes=50,\n",
    "    num_relay_nodes=75,\n",
    "    num_greedy_proposers=1,\n",
    "    time_between_blocks=120,\n",
    "    block_time_mask=15,\n",
    "    max_future_block_time_seconds=2 * 60 * 60\n",
    ")"
   ]
  },
  {
   "cell_type": "code",
   "execution_count": 16,
   "metadata": {},
   "outputs": [],
   "source": [
    "greedy_node = [n for n in bignet.nodes if n.is_proposer and n.greedy_proposal][0]"
   ]
  },
  {
   "cell_type": "code",
   "execution_count": 17,
   "metadata": {},
   "outputs": [
    {
     "data": {
      "text/plain": [
       "{Coin(amount=1000, height=0, txo=TransactionOutput(tx_hash=b'Nc\\xcd\\xbd6\\x97\\x14\\xcaBU\\xf7zI{8\\x96T\\x8c\\x0c\\xa4T\\xd4^S\\x84a\\xdeu\\xc2\\xbc\\x9f\\xec', out_idx=35))}"
      ]
     },
     "execution_count": 17,
     "metadata": {},
     "output_type": "execute_result"
    }
   ],
   "source": [
    "# We discard all the coins, but 1, for our greedy node, to decrease its stake\n",
    "coin = list(greedy_node.coins_cache)[0]\n",
    "coin = Coin(amount=coin.amount // 100, height=coin.height, txo=coin.txo)\n",
    "greedy_node.coins_cache = {coin}\n",
    "greedy_node.initial_coins = greedy_node.coins_cache.copy()\n",
    "greedy_node.coins_cache"
   ]
  },
  {
   "cell_type": "code",
   "execution_count": null,
   "metadata": {},
   "outputs": [],
   "source": [
    "bignet.run()"
   ]
  },
  {
   "cell_type": "code",
   "execution_count": 7,
   "metadata": {},
   "outputs": [
    {
     "name": "stdout",
     "output_type": "stream",
     "text": [
      "height: 1686, chain_work: 64904225496\n"
     ]
    }
   ],
   "source": [
    "print(\n",
    "    f'height: {max(n.main_chain.height for n in bignet.nodes)}, '\n",
    "    f'chain_work: {max(n.main_chain.get_chain_work() for n in bignet.nodes)}'\n",
    ")"
   ]
  },
  {
   "cell_type": "code",
   "execution_count": 8,
   "metadata": {},
   "outputs": [
    {
     "data": {
      "text/plain": [
       "202320"
      ]
     },
     "execution_count": 8,
     "metadata": {},
     "output_type": "execute_result"
    }
   ],
   "source": [
    "1686 * 120"
   ]
  },
  {
   "cell_type": "code",
   "execution_count": 9,
   "metadata": {},
   "outputs": [
    {
     "name": "stdout",
     "output_type": "stream",
     "text": [
      "num_greedy: 1, greedy_benefit: 26, naive_benefit: 1660\n"
     ]
    }
   ],
   "source": [
    "greedy_funds = sum(\n",
    "    sum(c.amount for c in n.coins_cache)\n",
    "    for n in bignet.nodes\n",
    "    if n.is_proposer and n.greedy_proposal\n",
    ")\n",
    "\n",
    "\n",
    "naive_funds = sum(\n",
    "    sum(c.amount for c in n.coins_cache)\n",
    "    for n in bignet.nodes\n",
    "    if n.is_proposer and not n.greedy_proposal\n",
    ")\n",
    "\n",
    "print(\n",
    "    f'num_greedy: {bignet.num_greedy_proposers}, '\n",
    "    f'greedy_benefit: {greedy_funds - 1000}, '\n",
    "    f'naive_benefit: {naive_funds - 4900000}'\n",
    ")"
   ]
  },
  {
   "cell_type": "code",
   "execution_count": 50,
   "metadata": {},
   "outputs": [
    {
     "data": {
      "text/plain": [
       "79.85257985257985"
      ]
     },
     "execution_count": 50,
     "metadata": {},
     "output_type": "execute_result"
    }
   ],
   "source": [
    "# The greedy proposer multiplies its probabilities by 79.85 when the naive nodes are extremely naive\n",
    "# (they don't try to propose if the current time is lower than the past median block time)\n",
    "26 / (1628 / 5000)  # we had 1628 blocks, and 26 units of benefit for the greedy node."
   ]
  },
  {
   "cell_type": "code",
   "execution_count": 11,
   "metadata": {},
   "outputs": [
    {
     "data": {
      "text/plain": [
       "77.1055753262159"
      ]
     },
     "execution_count": 11,
     "metadata": {},
     "output_type": "execute_result"
    }
   ],
   "source": [
    "26 / (1686 / 5000)  # If nodes are slightly less naide, it still does not make any difference."
   ]
  },
  {
   "cell_type": "code",
   "execution_count": 7,
   "metadata": {},
   "outputs": [],
   "source": [
    "# Lets try now with a bigger network, and a small greedy node.\n",
    "# Trying parameters closer ours now, just to see how it would behave there...\n",
    "ournet = SimNet(\n",
    "    simulation_time=172800,\n",
    "    coins_amount=100000,\n",
    "    num_coins_per_proposer=1,\n",
    "    num_proposer_nodes=50,\n",
    "    num_relay_nodes=75,\n",
    "    num_greedy_proposers=1,\n",
    "    time_between_blocks=16,\n",
    "    block_time_mask=4,\n",
    "    max_future_block_time_seconds=10 * 60  # The proposal is to have a \"small\" time window\n",
    ")\n",
    "\n",
    "greedy_node = [n for n in ournet.nodes if n.is_proposer and n.greedy_proposal][0]\n",
    "\n",
    "# Tweaking the greedy node to decrease its stake\n",
    "coin = list(greedy_node.coins_cache)[0]\n",
    "coin = Coin(amount=coin.amount // 100, height=coin.height, txo=coin.txo)\n",
    "greedy_node.coins_cache = {coin}\n",
    "greedy_node.initial_coins = greedy_node.coins_cache.copy()\n",
    "greedy_node.coins_cache\n",
    "\n",
    "ournet.run()"
   ]
  },
  {
   "cell_type": "code",
   "execution_count": 8,
   "metadata": {},
   "outputs": [
    {
     "name": "stdout",
     "output_type": "stream",
     "text": [
      "height: 10757, chain_work: 234266604998\n"
     ]
    }
   ],
   "source": [
    "print(\n",
    "    f'height: {max(n.main_chain.height for n in ournet.nodes)}, '\n",
    "    f'chain_work: {max(n.main_chain.get_chain_work() for n in ournet.nodes)}'\n",
    ")"
   ]
  },
  {
   "cell_type": "code",
   "execution_count": 9,
   "metadata": {},
   "outputs": [
    {
     "data": {
      "text/plain": [
       "(172112, 172800)"
      ]
     },
     "execution_count": 9,
     "metadata": {},
     "output_type": "execute_result"
    }
   ],
   "source": [
    "16 * 10757, 48 * 3600"
   ]
  },
  {
   "cell_type": "code",
   "execution_count": 10,
   "metadata": {},
   "outputs": [
    {
     "name": "stdout",
     "output_type": "stream",
     "text": [
      "num_greedy: 1, greedy_benefit: 83, naive_benefit: 10674\n"
     ]
    }
   ],
   "source": [
    "greedy_funds = sum(\n",
    "    sum(c.amount for c in n.coins_cache)\n",
    "    for n in ournet.nodes\n",
    "    if n.is_proposer and n.greedy_proposal\n",
    ")\n",
    "\n",
    "\n",
    "naive_funds = sum(\n",
    "    sum(c.amount for c in n.coins_cache)\n",
    "    for n in ournet.nodes\n",
    "    if n.is_proposer and not n.greedy_proposal\n",
    ")\n",
    "\n",
    "print(\n",
    "    f'num_greedy: {ournet.num_greedy_proposers}, '\n",
    "    f'greedy_benefit: {greedy_funds - 1000}, '\n",
    "    f'naive_benefit: {naive_funds - 4900000}'\n",
    ")"
   ]
  },
  {
   "cell_type": "code",
   "execution_count": 12,
   "metadata": {},
   "outputs": [
    {
     "data": {
      "text/plain": [
       "2.1514"
      ]
     },
     "execution_count": 12,
     "metadata": {},
     "output_type": "execute_result"
    }
   ],
   "source": [
    "10757 / 5000  # That's the expected benefit for a naive node holding 1/5000 of the stake"
   ]
  },
  {
   "cell_type": "code",
   "execution_count": 13,
   "metadata": {},
   "outputs": [
    {
     "data": {
      "text/plain": [
       "38.579529608626935"
      ]
     },
     "execution_count": 13,
     "metadata": {},
     "output_type": "execute_result"
    }
   ],
   "source": [
    "83 / 2.1514"
   ]
  },
  {
   "cell_type": "code",
   "execution_count": 14,
   "metadata": {},
   "outputs": [],
   "source": [
    "# Now, let's examine the timestamps...\n",
    "best_chain = sorted(\n",
    "    [node.main_chain for node in ournet.nodes],\n",
    "    key=lambda c: c.get_chain_work(),\n",
    "    reverse=True\n",
    ")[0]\n",
    "\n",
    "chain_timestamps = [(block.real_timestamp - block.timestamp) for block in best_chain.blocks]"
   ]
  },
  {
   "cell_type": "code",
   "execution_count": 17,
   "metadata": {},
   "outputs": [
    {
     "data": {
      "image/png": "[encoded data removed]",
      "text/plain": [
       "<Figure size 432x288 with 1 Axes>"
      ]
     },
     "metadata": {
      "needs_background": "light"
     },
     "output_type": "display_data"
    }
   ],
   "source": [
    "plt.plot(chain_timestamps)\n",
    "plt.show()"
   ]
  },
  {
   "cell_type": "code",
   "execution_count": 18,
   "metadata": {},
   "outputs": [],
   "source": [
    "# Saving the generated data for later, to save some time.\n",
    "from pickle import dumps as pdumps\n",
    "\n",
    "# Removing references to unserializable objects\n",
    "ournet.logger = None\n",
    "for node in ournet.nodes: \n",
    "    for block in node.main_chain.blocks: \n",
    "        block._kernel_hash_base = None \n",
    "        block._block_hash_base = None \n",
    "    for chain in node.alternative_chains: \n",
    "        for block in chain.blocks: \n",
    "            block._kernel_hash_base = None \n",
    "            block._block_hash_base = None\n",
    "\n",
    "with open('./data/ournet_48h.dat', 'wb') as simulation_file:\n",
    "    simulation_file.write(pdumps(ournet))\n"
   ]
  },
  {
   "cell_type": "code",
   "execution_count": null,
   "metadata": {},
   "outputs": [],
   "source": []
  }
 ],
 "metadata": {
  "kernelspec": {
   "display_name": "Python 3",
   "language": "python",
   "name": "python3"
  },
  "language_info": {
   "codemirror_mode": {
    "name": "ipython",
    "version": 3
   },
   "file_extension": ".py",
   "mimetype": "text/x-python",
   "name": "python",
   "nbconvert_exporter": "python",
   "pygments_lexer": "ipython3",
   "version": "3.6.7"
  }
 },
 "nbformat": 4,
 "nbformat_minor": 2
}
